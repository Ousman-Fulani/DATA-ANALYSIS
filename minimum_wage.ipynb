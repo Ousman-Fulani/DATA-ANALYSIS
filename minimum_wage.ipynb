{
 "cells": [
  {
   "cell_type": "markdown",
   "metadata": {},
   "source": [
    "Import the necessary libraries"
   ]
  },
  {
   "cell_type": "code",
   "execution_count": 1,
   "metadata": {},
   "outputs": [
    {
     "data": {
      "text/html": [
       "<div>\n",
       "<style scoped>\n",
       "    .dataframe tbody tr th:only-of-type {\n",
       "        vertical-align: middle;\n",
       "    }\n",
       "\n",
       "    .dataframe tbody tr th {\n",
       "        vertical-align: top;\n",
       "    }\n",
       "\n",
       "    .dataframe thead th {\n",
       "        text-align: right;\n",
       "    }\n",
       "</style>\n",
       "<table border=\"1\" class=\"dataframe\">\n",
       "  <thead>\n",
       "    <tr style=\"text-align: right;\">\n",
       "      <th></th>\n",
       "      <th>Year</th>\n",
       "      <th>State</th>\n",
       "      <th>Table_Data</th>\n",
       "      <th>Footnote</th>\n",
       "      <th>High.Value</th>\n",
       "      <th>Low.Value</th>\n",
       "      <th>CPI.Average</th>\n",
       "      <th>High.2018</th>\n",
       "      <th>Low.2018</th>\n",
       "    </tr>\n",
       "  </thead>\n",
       "  <tbody>\n",
       "    <tr>\n",
       "      <th>0</th>\n",
       "      <td>1968</td>\n",
       "      <td>Alabama</td>\n",
       "      <td>...</td>\n",
       "      <td>NaN</td>\n",
       "      <td>0.00000</td>\n",
       "      <td>0.00000</td>\n",
       "      <td>34.783333</td>\n",
       "      <td>0.00</td>\n",
       "      <td>0.00</td>\n",
       "    </tr>\n",
       "    <tr>\n",
       "      <th>1</th>\n",
       "      <td>1968</td>\n",
       "      <td>Alaska</td>\n",
       "      <td>2.10</td>\n",
       "      <td>NaN</td>\n",
       "      <td>2.10000</td>\n",
       "      <td>2.10000</td>\n",
       "      <td>34.783333</td>\n",
       "      <td>15.12</td>\n",
       "      <td>15.12</td>\n",
       "    </tr>\n",
       "    <tr>\n",
       "      <th>2</th>\n",
       "      <td>1968</td>\n",
       "      <td>Arizona</td>\n",
       "      <td>18.72 - 26.40/wk(b)</td>\n",
       "      <td>(b)</td>\n",
       "      <td>0.66000</td>\n",
       "      <td>0.46800</td>\n",
       "      <td>34.783333</td>\n",
       "      <td>4.75</td>\n",
       "      <td>3.37</td>\n",
       "    </tr>\n",
       "    <tr>\n",
       "      <th>3</th>\n",
       "      <td>1968</td>\n",
       "      <td>Arkansas</td>\n",
       "      <td>1.25/day(b)</td>\n",
       "      <td>(b)</td>\n",
       "      <td>0.15625</td>\n",
       "      <td>0.15625</td>\n",
       "      <td>34.783333</td>\n",
       "      <td>1.12</td>\n",
       "      <td>1.12</td>\n",
       "    </tr>\n",
       "    <tr>\n",
       "      <th>4</th>\n",
       "      <td>1968</td>\n",
       "      <td>California</td>\n",
       "      <td>1.65(b)</td>\n",
       "      <td>(b)</td>\n",
       "      <td>1.65000</td>\n",
       "      <td>1.65000</td>\n",
       "      <td>34.783333</td>\n",
       "      <td>11.88</td>\n",
       "      <td>11.88</td>\n",
       "    </tr>\n",
       "  </tbody>\n",
       "</table>\n",
       "</div>"
      ],
      "text/plain": [
       "   Year       State           Table_Data Footnote  High.Value  Low.Value  \\\n",
       "0  1968     Alabama                  ...      NaN     0.00000    0.00000   \n",
       "1  1968      Alaska                 2.10      NaN     2.10000    2.10000   \n",
       "2  1968     Arizona  18.72 - 26.40/wk(b)      (b)     0.66000    0.46800   \n",
       "3  1968    Arkansas          1.25/day(b)      (b)     0.15625    0.15625   \n",
       "4  1968  California              1.65(b)      (b)     1.65000    1.65000   \n",
       "\n",
       "   CPI.Average  High.2018  Low.2018  \n",
       "0    34.783333       0.00      0.00  \n",
       "1    34.783333      15.12     15.12  \n",
       "2    34.783333       4.75      3.37  \n",
       "3    34.783333       1.12      1.12  \n",
       "4    34.783333      11.88     11.88  "
      ]
     },
     "execution_count": 1,
     "metadata": {},
     "output_type": "execute_result"
    }
   ],
   "source": [
    "import pandas as pd\n",
    "df=pd.read_csv('datasets/Minimum Wage Data.csv',encoding='latin')\n",
    "df.head()"
   ]
  },
  {
   "cell_type": "markdown",
   "metadata": {},
   "source": [
    "Which year has more CPI.Average on average"
   ]
  },
  {
   "cell_type": "code",
   "execution_count": 2,
   "metadata": {},
   "outputs": [
    {
     "data": {
      "text/plain": [
       "Year\n",
       "1968    34.783333\n",
       "Name: CPI.Average, dtype: float64"
      ]
     },
     "execution_count": 2,
     "metadata": {},
     "output_type": "execute_result"
    }
   ],
   "source": [
    "df.groupby('Year')['CPI.Average'].mean().head(1)"
   ]
  },
  {
   "cell_type": "markdown",
   "metadata": {},
   "source": [
    "For each year print the statistics for CPI.Average consumption"
   ]
  },
  {
   "cell_type": "code",
   "execution_count": 3,
   "metadata": {},
   "outputs": [
    {
     "data": {
      "text/html": [
       "<div>\n",
       "<style scoped>\n",
       "    .dataframe tbody tr th:only-of-type {\n",
       "        vertical-align: middle;\n",
       "    }\n",
       "\n",
       "    .dataframe tbody tr th {\n",
       "        vertical-align: top;\n",
       "    }\n",
       "\n",
       "    .dataframe thead th {\n",
       "        text-align: right;\n",
       "    }\n",
       "</style>\n",
       "<table border=\"1\" class=\"dataframe\">\n",
       "  <thead>\n",
       "    <tr style=\"text-align: right;\">\n",
       "      <th></th>\n",
       "      <th>count</th>\n",
       "      <th>mean</th>\n",
       "      <th>std</th>\n",
       "      <th>min</th>\n",
       "      <th>25%</th>\n",
       "      <th>50%</th>\n",
       "      <th>75%</th>\n",
       "      <th>max</th>\n",
       "    </tr>\n",
       "    <tr>\n",
       "      <th>Year</th>\n",
       "      <th></th>\n",
       "      <th></th>\n",
       "      <th></th>\n",
       "      <th></th>\n",
       "      <th></th>\n",
       "      <th></th>\n",
       "      <th></th>\n",
       "      <th></th>\n",
       "    </tr>\n",
       "  </thead>\n",
       "  <tbody>\n",
       "    <tr>\n",
       "      <th>1968</th>\n",
       "      <td>55.0</td>\n",
       "      <td>34.783333</td>\n",
       "      <td>0.000000e+00</td>\n",
       "      <td>34.783333</td>\n",
       "      <td>34.783333</td>\n",
       "      <td>34.783333</td>\n",
       "      <td>34.783333</td>\n",
       "      <td>34.783333</td>\n",
       "    </tr>\n",
       "    <tr>\n",
       "      <th>1969</th>\n",
       "      <td>55.0</td>\n",
       "      <td>36.683333</td>\n",
       "      <td>3.585458e-14</td>\n",
       "      <td>36.683333</td>\n",
       "      <td>36.683333</td>\n",
       "      <td>36.683333</td>\n",
       "      <td>36.683333</td>\n",
       "      <td>36.683333</td>\n",
       "    </tr>\n",
       "    <tr>\n",
       "      <th>1970</th>\n",
       "      <td>55.0</td>\n",
       "      <td>38.825000</td>\n",
       "      <td>2.151275e-14</td>\n",
       "      <td>38.825000</td>\n",
       "      <td>38.825000</td>\n",
       "      <td>38.825000</td>\n",
       "      <td>38.825000</td>\n",
       "      <td>38.825000</td>\n",
       "    </tr>\n",
       "    <tr>\n",
       "      <th>1971</th>\n",
       "      <td>55.0</td>\n",
       "      <td>40.491667</td>\n",
       "      <td>3.585458e-14</td>\n",
       "      <td>40.491667</td>\n",
       "      <td>40.491667</td>\n",
       "      <td>40.491667</td>\n",
       "      <td>40.491667</td>\n",
       "      <td>40.491667</td>\n",
       "    </tr>\n",
       "    <tr>\n",
       "      <th>1972</th>\n",
       "      <td>55.0</td>\n",
       "      <td>41.816667</td>\n",
       "      <td>4.302550e-14</td>\n",
       "      <td>41.816667</td>\n",
       "      <td>41.816667</td>\n",
       "      <td>41.816667</td>\n",
       "      <td>41.816667</td>\n",
       "      <td>41.816667</td>\n",
       "    </tr>\n",
       "    <tr>\n",
       "      <th>1973</th>\n",
       "      <td>55.0</td>\n",
       "      <td>44.400000</td>\n",
       "      <td>4.302550e-14</td>\n",
       "      <td>44.400000</td>\n",
       "      <td>44.400000</td>\n",
       "      <td>44.400000</td>\n",
       "      <td>44.400000</td>\n",
       "      <td>44.400000</td>\n",
       "    </tr>\n",
       "    <tr>\n",
       "      <th>1974</th>\n",
       "      <td>55.0</td>\n",
       "      <td>49.308333</td>\n",
       "      <td>5.019642e-14</td>\n",
       "      <td>49.308333</td>\n",
       "      <td>49.308333</td>\n",
       "      <td>49.308333</td>\n",
       "      <td>49.308333</td>\n",
       "      <td>49.308333</td>\n",
       "    </tr>\n",
       "    <tr>\n",
       "      <th>1975</th>\n",
       "      <td>55.0</td>\n",
       "      <td>53.816667</td>\n",
       "      <td>5.019642e-14</td>\n",
       "      <td>53.816667</td>\n",
       "      <td>53.816667</td>\n",
       "      <td>53.816667</td>\n",
       "      <td>53.816667</td>\n",
       "      <td>53.816667</td>\n",
       "    </tr>\n",
       "    <tr>\n",
       "      <th>1976</th>\n",
       "      <td>55.0</td>\n",
       "      <td>56.908333</td>\n",
       "      <td>0.000000e+00</td>\n",
       "      <td>56.908333</td>\n",
       "      <td>56.908333</td>\n",
       "      <td>56.908333</td>\n",
       "      <td>56.908333</td>\n",
       "      <td>56.908333</td>\n",
       "    </tr>\n",
       "    <tr>\n",
       "      <th>1977</th>\n",
       "      <td>55.0</td>\n",
       "      <td>60.608333</td>\n",
       "      <td>4.302550e-14</td>\n",
       "      <td>60.608333</td>\n",
       "      <td>60.608333</td>\n",
       "      <td>60.608333</td>\n",
       "      <td>60.608333</td>\n",
       "      <td>60.608333</td>\n",
       "    </tr>\n",
       "  </tbody>\n",
       "</table>\n",
       "</div>"
      ],
      "text/plain": [
       "      count       mean           std        min        25%        50%  \\\n",
       "Year                                                                    \n",
       "1968   55.0  34.783333  0.000000e+00  34.783333  34.783333  34.783333   \n",
       "1969   55.0  36.683333  3.585458e-14  36.683333  36.683333  36.683333   \n",
       "1970   55.0  38.825000  2.151275e-14  38.825000  38.825000  38.825000   \n",
       "1971   55.0  40.491667  3.585458e-14  40.491667  40.491667  40.491667   \n",
       "1972   55.0  41.816667  4.302550e-14  41.816667  41.816667  41.816667   \n",
       "1973   55.0  44.400000  4.302550e-14  44.400000  44.400000  44.400000   \n",
       "1974   55.0  49.308333  5.019642e-14  49.308333  49.308333  49.308333   \n",
       "1975   55.0  53.816667  5.019642e-14  53.816667  53.816667  53.816667   \n",
       "1976   55.0  56.908333  0.000000e+00  56.908333  56.908333  56.908333   \n",
       "1977   55.0  60.608333  4.302550e-14  60.608333  60.608333  60.608333   \n",
       "\n",
       "            75%        max  \n",
       "Year                        \n",
       "1968  34.783333  34.783333  \n",
       "1969  36.683333  36.683333  \n",
       "1970  38.825000  38.825000  \n",
       "1971  40.491667  40.491667  \n",
       "1972  41.816667  41.816667  \n",
       "1973  44.400000  44.400000  \n",
       "1974  49.308333  49.308333  \n",
       "1975  53.816667  53.816667  \n",
       "1976  56.908333  56.908333  \n",
       "1977  60.608333  60.608333  "
      ]
     },
     "execution_count": 3,
     "metadata": {},
     "output_type": "execute_result"
    }
   ],
   "source": [
    "df.groupby('Year')['CPI.Average'].describe().head(10)"
   ]
  },
  {
   "cell_type": "markdown",
   "metadata": {},
   "source": [
    "Print the mean CPI.Average per year for every column"
   ]
  },
  {
   "cell_type": "code",
   "execution_count": 8,
   "metadata": {},
   "outputs": [
    {
     "data": {
      "text/plain": [
       "Year\n",
       "1968    34.783333\n",
       "1969    36.683333\n",
       "1970    38.825000\n",
       "1971    40.491667\n",
       "1972    41.816667\n",
       "1973    44.400000\n",
       "1974    49.308333\n",
       "1975    53.816667\n",
       "1976    56.908333\n",
       "1977    60.608333\n",
       "Name: CPI.Average, dtype: float64"
      ]
     },
     "execution_count": 8,
     "metadata": {},
     "output_type": "execute_result"
    }
   ],
   "source": [
    "df.groupby('Year')['CPI.Average'].mean().head(10)"
   ]
  },
  {
   "cell_type": "markdown",
   "metadata": {},
   "source": [
    "Print the median CPI.Average per year for every column"
   ]
  },
  {
   "cell_type": "code",
   "execution_count": 9,
   "metadata": {},
   "outputs": [
    {
     "data": {
      "text/plain": [
       "Year\n",
       "1968    34.783333\n",
       "1969    36.683333\n",
       "1970    38.825000\n",
       "1971    40.491667\n",
       "1972    41.816667\n",
       "1973    44.400000\n",
       "1974    49.308333\n",
       "1975    53.816667\n",
       "1976    56.908333\n",
       "1977    60.608333\n",
       "Name: CPI.Average, dtype: float64"
      ]
     },
     "execution_count": 9,
     "metadata": {},
     "output_type": "execute_result"
    }
   ],
   "source": [
    "df.groupby('Year')['CPI.Average'].median().head(10)"
   ]
  },
  {
   "cell_type": "markdown",
   "metadata": {},
   "source": [
    "Print the mean, min and max values for Low.2018"
   ]
  },
  {
   "cell_type": "code",
   "execution_count": 6,
   "metadata": {},
   "outputs": [
    {
     "data": {
      "text/html": [
       "<div>\n",
       "<style scoped>\n",
       "    .dataframe tbody tr th:only-of-type {\n",
       "        vertical-align: middle;\n",
       "    }\n",
       "\n",
       "    .dataframe tbody tr th {\n",
       "        vertical-align: top;\n",
       "    }\n",
       "\n",
       "    .dataframe thead th {\n",
       "        text-align: right;\n",
       "    }\n",
       "</style>\n",
       "<table border=\"1\" class=\"dataframe\">\n",
       "  <thead>\n",
       "    <tr style=\"text-align: right;\">\n",
       "      <th></th>\n",
       "      <th>mean</th>\n",
       "      <th>min</th>\n",
       "      <th>max</th>\n",
       "    </tr>\n",
       "    <tr>\n",
       "      <th>Year</th>\n",
       "      <th></th>\n",
       "      <th></th>\n",
       "      <th></th>\n",
       "    </tr>\n",
       "  </thead>\n",
       "  <tbody>\n",
       "    <tr>\n",
       "      <th>1968</th>\n",
       "      <td>6.063889</td>\n",
       "      <td>0.0</td>\n",
       "      <td>15.12</td>\n",
       "    </tr>\n",
       "    <tr>\n",
       "      <th>1969</th>\n",
       "      <td>5.749444</td>\n",
       "      <td>0.0</td>\n",
       "      <td>14.33</td>\n",
       "    </tr>\n",
       "    <tr>\n",
       "      <th>1970</th>\n",
       "      <td>6.018333</td>\n",
       "      <td>0.0</td>\n",
       "      <td>13.54</td>\n",
       "    </tr>\n",
       "    <tr>\n",
       "      <th>1971</th>\n",
       "      <td>5.770370</td>\n",
       "      <td>0.0</td>\n",
       "      <td>12.99</td>\n",
       "    </tr>\n",
       "    <tr>\n",
       "      <th>1972</th>\n",
       "      <td>6.732778</td>\n",
       "      <td>0.0</td>\n",
       "      <td>12.57</td>\n",
       "    </tr>\n",
       "  </tbody>\n",
       "</table>\n",
       "</div>"
      ],
      "text/plain": [
       "          mean  min    max\n",
       "Year                      \n",
       "1968  6.063889  0.0  15.12\n",
       "1969  5.749444  0.0  14.33\n",
       "1970  6.018333  0.0  13.54\n",
       "1971  5.770370  0.0  12.99\n",
       "1972  6.732778  0.0  12.57"
      ]
     },
     "execution_count": 6,
     "metadata": {},
     "output_type": "execute_result"
    }
   ],
   "source": [
    "df.groupby('Year')['Low.2018'].agg(['mean', 'min', 'max']).head()"
   ]
  },
  {
   "cell_type": "code",
   "execution_count": 7,
   "metadata": {},
   "outputs": [
    {
     "data": {
      "text/plain": [
       "6.200251916757936"
      ]
     },
     "execution_count": 7,
     "metadata": {},
     "output_type": "execute_result"
    }
   ],
   "source": [
    "df['Low.2018'].mean()"
   ]
  }
 ],
 "metadata": {
  "kernelspec": {
   "display_name": "Python 3",
   "language": "python",
   "name": "python3"
  },
  "language_info": {
   "codemirror_mode": {
    "name": "ipython",
    "version": 3
   },
   "file_extension": ".py",
   "mimetype": "text/x-python",
   "name": "python",
   "nbconvert_exporter": "python",
   "pygments_lexer": "ipython3",
   "version": "3.7.3"
  }
 },
 "nbformat": 4,
 "nbformat_minor": 2
}
